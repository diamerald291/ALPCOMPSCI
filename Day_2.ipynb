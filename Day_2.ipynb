{
  "nbformat": 4,
  "nbformat_minor": 0,
  "metadata": {
    "colab": {
      "provenance": [],
      "toc_visible": true,
      "authorship_tag": "ABX9TyP2NNsJZUAmXxPhsowzuZhR",
      "include_colab_link": true
    },
    "kernelspec": {
      "name": "python3",
      "display_name": "Python 3"
    },
    "language_info": {
      "name": "python"
    }
  },
  "cells": [
    {
      "cell_type": "markdown",
      "metadata": {
        "id": "view-in-github",
        "colab_type": "text"
      },
      "source": [
        "<a href=\"https://colab.research.google.com/github/diamerald291/ALPCOMPSCI/blob/main/Day_2.ipynb\" target=\"_parent\"><img src=\"https://colab.research.google.com/assets/colab-badge.svg\" alt=\"Open In Colab\"/></a>"
      ]
    },
    {
      "cell_type": "code",
      "execution_count": null,
      "metadata": {
        "id": "Pzq3PLCExbtg"
      },
      "outputs": [],
      "source": []
    },
    {
      "cell_type": "code",
      "source": [],
      "metadata": {
        "id": "QnEKzeZy-q8g"
      },
      "execution_count": null,
      "outputs": []
    },
    {
      "cell_type": "markdown",
      "source": [
        "#Iterations with a counter"
      ],
      "metadata": {
        "id": "IU6NfUE_xdXE"
      }
    },
    {
      "cell_type": "code",
      "source": [
        "counter = 1\n",
        "while counter < 5:\n",
        "  print(counter)\n",
        "  counter += 1\n",
        "\n",
        "print(\"The loop has finished\")\n"
      ],
      "metadata": {
        "colab": {
          "base_uri": "https://localhost:8080/"
        },
        "id": "ebXY5z8FxeVT",
        "outputId": "6d8b5c2d-d781-4c10-ed5e-6a90ef315fe6"
      },
      "execution_count": null,
      "outputs": [
        {
          "output_type": "stream",
          "name": "stdout",
          "text": [
            "1\n",
            "2\n",
            "3\n",
            "4\n",
            "The loop has finished\n"
          ]
        }
      ]
    },
    {
      "cell_type": "markdown",
      "source": [
        "Task 2"
      ],
      "metadata": {
        "id": "OpCdwVYwxevI"
      }
    },
    {
      "cell_type": "code",
      "source": [
        "counter = int(input(\"Select a countdown number: \"))\n",
        "while counter > 0:\n",
        "  print(counter)\n",
        "  counter -= 1\n",
        "\n",
        "print(\"BLAST OFF\")"
      ],
      "metadata": {
        "colab": {
          "base_uri": "https://localhost:8080/"
        },
        "id": "HRfozOCtxfHb",
        "outputId": "99eb765c-3046-4e03-9393-59df4b0be326"
      },
      "execution_count": null,
      "outputs": [
        {
          "output_type": "stream",
          "name": "stdout",
          "text": [
            "Select a countdown number: 40\n",
            "40\n",
            "39\n",
            "38\n",
            "37\n",
            "36\n",
            "35\n",
            "34\n",
            "33\n",
            "32\n",
            "31\n",
            "30\n",
            "29\n",
            "28\n",
            "27\n",
            "26\n",
            "25\n",
            "24\n",
            "23\n",
            "22\n",
            "21\n",
            "20\n",
            "19\n",
            "18\n",
            "17\n",
            "16\n",
            "15\n",
            "14\n",
            "13\n",
            "12\n",
            "11\n",
            "10\n",
            "9\n",
            "8\n",
            "7\n",
            "6\n",
            "5\n",
            "4\n",
            "3\n",
            "2\n",
            "1\n",
            "BLAST OFF\n"
          ]
        }
      ]
    },
    {
      "cell_type": "markdown",
      "source": [
        "Task Predict & Run"
      ],
      "metadata": {
        "id": "axst3A1C0vMA"
      }
    },
    {
      "cell_type": "code",
      "source": [
        "# PREDICTION: Exact same to a normal input, but the input box will be below the selected text.\n",
        "\n",
        "correctUserName = \"Dave\"\n",
        "\n",
        "userName = input((\"Please enter your username: \")).lower\n",
        "\n",
        "while userName != correctUserName:\n",
        "  userName = input(\"Username incorrect, please try again.\")\n",
        "\n",
        "print(\"Username accepted.\")\n"
      ],
      "metadata": {
        "colab": {
          "base_uri": "https://localhost:8080/",
          "height": 373
        },
        "id": "CQ_Yr6WT0vpR",
        "outputId": "1f0239b5-c0b8-4b5e-aa81-2d009bcbf3ef"
      },
      "execution_count": null,
      "outputs": [
        {
          "name": "stdout",
          "output_type": "stream",
          "text": [
            "Please enter your username: Dave\n"
          ]
        },
        {
          "output_type": "error",
          "ename": "KeyboardInterrupt",
          "evalue": "Interrupted by user",
          "traceback": [
            "\u001b[0;31m---------------------------------------------------------------------------\u001b[0m",
            "\u001b[0;31mKeyboardInterrupt\u001b[0m                         Traceback (most recent call last)",
            "\u001b[0;32m<ipython-input-14-1f7a2a32304f>\u001b[0m in \u001b[0;36m<cell line: 7>\u001b[0;34m()\u001b[0m\n\u001b[1;32m      6\u001b[0m \u001b[0;34m\u001b[0m\u001b[0m\n\u001b[1;32m      7\u001b[0m \u001b[0;32mwhile\u001b[0m \u001b[0muserName\u001b[0m \u001b[0;34m!=\u001b[0m \u001b[0mcorrectUserName\u001b[0m\u001b[0;34m.\u001b[0m\u001b[0mlower\u001b[0m\u001b[0;34m:\u001b[0m\u001b[0;34m\u001b[0m\u001b[0;34m\u001b[0m\u001b[0m\n\u001b[0;32m----> 8\u001b[0;31m   \u001b[0muserName\u001b[0m \u001b[0;34m=\u001b[0m \u001b[0minput\u001b[0m\u001b[0;34m(\u001b[0m\u001b[0;34m\"Username incorrect, please try again.\"\u001b[0m\u001b[0;34m)\u001b[0m\u001b[0;34m\u001b[0m\u001b[0;34m\u001b[0m\u001b[0m\n\u001b[0m\u001b[1;32m      9\u001b[0m \u001b[0;34m\u001b[0m\u001b[0m\n\u001b[1;32m     10\u001b[0m \u001b[0mprint\u001b[0m\u001b[0;34m(\u001b[0m\u001b[0;34m\"Username accepted.\"\u001b[0m\u001b[0;34m)\u001b[0m\u001b[0;34m\u001b[0m\u001b[0;34m\u001b[0m\u001b[0m\n",
            "\u001b[0;32m/usr/local/lib/python3.10/dist-packages/ipykernel/kernelbase.py\u001b[0m in \u001b[0;36mraw_input\u001b[0;34m(self, prompt)\u001b[0m\n\u001b[1;32m    849\u001b[0m                 \u001b[0;34m\"raw_input was called, but this frontend does not support input requests.\"\u001b[0m\u001b[0;34m\u001b[0m\u001b[0;34m\u001b[0m\u001b[0m\n\u001b[1;32m    850\u001b[0m             )\n\u001b[0;32m--> 851\u001b[0;31m         return self._input_request(str(prompt),\n\u001b[0m\u001b[1;32m    852\u001b[0m             \u001b[0mself\u001b[0m\u001b[0;34m.\u001b[0m\u001b[0m_parent_ident\u001b[0m\u001b[0;34m,\u001b[0m\u001b[0;34m\u001b[0m\u001b[0;34m\u001b[0m\u001b[0m\n\u001b[1;32m    853\u001b[0m             \u001b[0mself\u001b[0m\u001b[0;34m.\u001b[0m\u001b[0m_parent_header\u001b[0m\u001b[0;34m,\u001b[0m\u001b[0;34m\u001b[0m\u001b[0;34m\u001b[0m\u001b[0m\n",
            "\u001b[0;32m/usr/local/lib/python3.10/dist-packages/ipykernel/kernelbase.py\u001b[0m in \u001b[0;36m_input_request\u001b[0;34m(self, prompt, ident, parent, password)\u001b[0m\n\u001b[1;32m    893\u001b[0m             \u001b[0;32mexcept\u001b[0m \u001b[0mKeyboardInterrupt\u001b[0m\u001b[0;34m:\u001b[0m\u001b[0;34m\u001b[0m\u001b[0;34m\u001b[0m\u001b[0m\n\u001b[1;32m    894\u001b[0m                 \u001b[0;31m# re-raise KeyboardInterrupt, to truncate traceback\u001b[0m\u001b[0;34m\u001b[0m\u001b[0;34m\u001b[0m\u001b[0m\n\u001b[0;32m--> 895\u001b[0;31m                 \u001b[0;32mraise\u001b[0m \u001b[0mKeyboardInterrupt\u001b[0m\u001b[0;34m(\u001b[0m\u001b[0;34m\"Interrupted by user\"\u001b[0m\u001b[0;34m)\u001b[0m \u001b[0;32mfrom\u001b[0m \u001b[0;32mNone\u001b[0m\u001b[0;34m\u001b[0m\u001b[0;34m\u001b[0m\u001b[0m\n\u001b[0m\u001b[1;32m    896\u001b[0m             \u001b[0;32mexcept\u001b[0m \u001b[0mException\u001b[0m \u001b[0;32mas\u001b[0m \u001b[0me\u001b[0m\u001b[0;34m:\u001b[0m\u001b[0;34m\u001b[0m\u001b[0;34m\u001b[0m\u001b[0m\n\u001b[1;32m    897\u001b[0m                 \u001b[0mself\u001b[0m\u001b[0;34m.\u001b[0m\u001b[0mlog\u001b[0m\u001b[0;34m.\u001b[0m\u001b[0mwarning\u001b[0m\u001b[0;34m(\u001b[0m\u001b[0;34m\"Invalid Message:\"\u001b[0m\u001b[0;34m,\u001b[0m \u001b[0mexc_info\u001b[0m\u001b[0;34m=\u001b[0m\u001b[0;32mTrue\u001b[0m\u001b[0;34m)\u001b[0m\u001b[0;34m\u001b[0m\u001b[0;34m\u001b[0m\u001b[0m\n",
            "\u001b[0;31mKeyboardInterrupt\u001b[0m: Interrupted by user"
          ]
        }
      ]
    },
    {
      "cell_type": "markdown",
      "source": [
        "Make 1 Task"
      ],
      "metadata": {
        "id": "jefQOLeU4WgJ"
      }
    },
    {
      "cell_type": "code",
      "source": [
        "password = input(\"Please type out a password: \")\n",
        "print()\n",
        "password2 = input(\"Great! Please type it again to confirm: \")\n",
        "\n",
        "while password != password2:\n",
        "  print(\"Passwords do not match\")\n",
        "  password2 = input(\"Please type your password again to continue: \")\n",
        "\n",
        "print(\"Password made!\")"
      ],
      "metadata": {
        "colab": {
          "base_uri": "https://localhost:8080/"
        },
        "id": "FgVHX54x4WwW",
        "outputId": "a402cb6a-1f32-488c-f715-dde29e0a7c75"
      },
      "execution_count": null,
      "outputs": [
        {
          "output_type": "stream",
          "name": "stdout",
          "text": [
            "Please type out a password: password\n",
            "\n",
            "Great! Please type it again to confirm: passw0rd\n",
            "Passwords do not match\n",
            "Please type your password again to continue: passwords\n",
            "Passwords do not match\n",
            "Please type your password again to continue: passw0rd\n",
            "Passwords do not match\n",
            "Please type your password again to continue: password\n",
            "Password made!\n"
          ]
        }
      ]
    },
    {
      "cell_type": "markdown",
      "source": [
        "#Lists"
      ],
      "metadata": {
        "id": "9ViqHZG-7rus"
      }
    },
    {
      "cell_type": "code",
      "source": [
        "#AKA Arrays\n",
        "\n",
        "fruit = [\"Apple\", \"Banana\", \"Grape\", \"Strawberry\", \"Melon\", \"Orange\"]\n",
        "\n",
        "print(fruit)\n",
        "\n",
        "number = int(input(\"Pick a fruit, using digits 1 to 6: \"))\n",
        "\n",
        "if number == 1:\n",
        "  print(fruit[0])\n",
        "elif number == 2:\n",
        "  print(fruit[1])\n",
        "elif number == 3:\n",
        "  print(fruit[2])\n",
        "elif number == 4:\n",
        "  print(fruit[3])\n",
        "elif number == 5:\n",
        "  print(fruit[4])\n",
        "elif number == 6:\n",
        "  print(fruit[5])\n",
        "\n",
        "else:\n",
        "  print(\"That was NOT A NUMBER IN THE LIST\")"
      ],
      "metadata": {
        "colab": {
          "base_uri": "https://localhost:8080/"
        },
        "id": "dM-BoVsj7sGR",
        "outputId": "51396929-8799-4e59-ae96-a1e043929e20"
      },
      "execution_count": null,
      "outputs": [
        {
          "output_type": "stream",
          "name": "stdout",
          "text": [
            "['Apple', 'Banana', 'Grape', 'Strawberry', 'Melon', 'Orange']\n",
            "Pick a fruit, using digits 1 to 6: 2\n",
            "Banana\n"
          ]
        }
      ]
    },
    {
      "cell_type": "markdown",
      "source": [
        "Add and Remove from List"
      ],
      "metadata": {
        "id": "uGeP8gT5_u4t"
      }
    },
    {
      "cell_type": "code",
      "source": [
        "#(name).remove(value) ---> TAKES OFF SPECIFIC ITEM IN THE LIST\n",
        "#(name).pop() ---> TAKES OFF LAST ITEM IN THE LIST\n",
        "\n",
        "food = [\"bacon\", \"cheese\", \"pasta\", \"beans\"]\n",
        "\n",
        "food.append(\"tomatoes\") #ADDS TOMATOES TO END\n",
        "\n",
        "food.insert(1, \"ice cream\") #INSERTS ICE CREAM FOR SECOND ITEM ON THE LIST\n",
        "\n",
        "food.remove(\"cheese\") #REMOVES CHEESE (3rd ITEM ON THE LIST)\n",
        "\n",
        "food.pop() #REMOVES LAST ITEM ON THE LIST (TOMATOES)\n",
        "\n",
        "print(food)\n"
      ],
      "metadata": {
        "colab": {
          "base_uri": "https://localhost:8080/"
        },
        "id": "F_l7r6GT_vKx",
        "outputId": "922578c2-1369-48b1-8b4b-776df44e3731"
      },
      "execution_count": null,
      "outputs": [
        {
          "output_type": "stream",
          "name": "stdout",
          "text": [
            "['bacon', 'ice cream', 'pasta', 'beans']\n"
          ]
        }
      ]
    },
    {
      "cell_type": "code",
      "source": [],
      "metadata": {
        "id": "FiG4fWULAYhg"
      },
      "execution_count": null,
      "outputs": []
    },
    {
      "cell_type": "markdown",
      "source": [
        "Find An Item in a List - Beat the Zombie Challenge"
      ],
      "metadata": {
        "id": "A5Z8rdc5BoYQ"
      }
    },
    {
      "cell_type": "code",
      "source": [
        "#if \"Item\" in (Listname) - 1 WAY\n",
        "\n",
        "\n",
        "zombieWeakness = (\"Sword\")\n",
        "\n",
        "print(\"You have encountered a zombie! You must fight it now!\")\n",
        "WeaponList = [\"Sword\", \"Chair\", \"Potion of Harming\"]\n",
        "\n",
        "print(\"Here is a list of given weapons:\",WeaponList)\n",
        "\n",
        "print()\n",
        "print()\n",
        "playerChoice = int(input(\"Type 1 if you want to pick a weapon on the list. Type 2 if you want to choose an item not on the list. \"))\n",
        "\n",
        "if playerChoice == 1:\n",
        "  playerWeapon = input(\"Choose a weapon from the list then: \")\n",
        "  if playerWeapon == \"Sword\" in WeaponList:\n",
        "    print(\"Congratulations! You have defeated the zombie by stabbing its nonexistent chest. \")\n",
        "\n",
        "  else:\n",
        "    print(\"The zombie was immune to the damage of the weapon, and your brains were monched on.\")\n",
        "\n",
        "elif playerChoice == 2:\n",
        "  playerWeapon = input(\"Choose an item not on the list. \")\n",
        "  if playerWeapon == \"Sword\" in WeaponList:\n",
        "    print(\"Your weapon was right, but your sword is too fragile compared to the one on the list. Your brains were monched on.\")\n",
        "  elif playerWeapon == \"Chair\" in WeaponList:\n",
        "    print(\"Your weapon was on the list and therefore the gods have sinned you and taken it away. Your brains were monched on.\")\n",
        "  elif playerWeapon == \"Potion of Harming\" in WeaponList:\n",
        "    print(\"Your weapon was on the list and therefore the gods have sinned you and taken it away. The potion would have been useless on the zombie either way. Your brains were monched on.\")\n",
        "  else:\n",
        "    print(\"You chose wrong! The item you needed was on the list. Your brains were monched on.\")\n",
        "\n",
        "else:\n",
        "  print(\"Your indecisiveness has led to your death. Your brains were monched on.\")"
      ],
      "metadata": {
        "colab": {
          "base_uri": "https://localhost:8080/"
        },
        "id": "RF06zK34BwMr",
        "outputId": "046027f2-3504-47d3-f32d-a4a7bf7c2ebf"
      },
      "execution_count": null,
      "outputs": [
        {
          "output_type": "stream",
          "name": "stdout",
          "text": [
            "You have encountered a zombie! You must fight it now!\n",
            "Here is a list of given weapons: ['Sword', 'Chair', 'Potion of Harming']\n",
            "\n",
            "\n",
            "Type 1 if you want to pick a weapon on the list. Type 2 if you want to choose an item not on the list. 2\n",
            "Choose an item not on the list. Sword\n",
            "Your weapon was right, but your sword is too fragile compared to the one on the list. Your brains were monched on.\n"
          ]
        }
      ]
    },
    {
      "cell_type": "markdown",
      "source": [
        "#Functions/Subroutines"
      ],
      "metadata": {
        "id": "79zXiKrvHpPM"
      }
    },
    {
      "cell_type": "code",
      "source": [
        "#use all lowercase with underscores between words here\n",
        "\n",
        "\n",
        "def add(num1, num2):\n",
        "  sum = num1 + num2\n",
        "  return sum\n",
        "\n",
        "def subtract(num1, num2):\n",
        "  difference = num1 - num2\n",
        "  return difference\n",
        "\n",
        "def multiply(num1, num2):\n",
        "  product = num1*num2\n",
        "  return product\n",
        "\n",
        "def divide(num1, num2):\n",
        "  quotient = num1/num2\n",
        "  return quotient\n",
        "\n",
        "num1 = int(input(\"Choose an integer: \"))\n",
        "num2 = int(input(\"Choose another integer: \"))\n",
        "print()\n",
        "print(\"Great! Now choose what to do with these two numbers.\")\n",
        "print(\"1: ADD\")\n",
        "print(\"2: SUBTRACT\")\n",
        "print(\"3: MULTIPLY\")\n",
        "print(\"4: DIVIDE\")\n",
        "\n",
        "num3 = int(input())\n",
        "print()\n",
        "\n",
        "if num3 == 1:\n",
        "  print(add(num1, num2),\"is the answer.\")\n",
        "elif num3 == 2:\n",
        "  print(subtract(num1, num2),\"is the answer.\")\n",
        "elif num3 == 3:\n",
        "  print(multiply(num1, num2),\"is the answer.\")\n",
        "elif num3 == 4:\n",
        "  if num2 == 0:\n",
        "    print(\"There is no real solution to this math expression.\")\n",
        "  else:\n",
        "    print(divide(num1, num2),\"is the answer.\")\n",
        "else:\n",
        "  print(\"That was not an option. Operation failed.\")\n",
        "\n",
        "\n",
        "\n",
        "#pythontutor.com/render.html"
      ],
      "metadata": {
        "colab": {
          "base_uri": "https://localhost:8080/"
        },
        "id": "JT8m7mOTHphI",
        "outputId": "e08975c3-0040-4a98-9bb6-76219e2c4f09"
      },
      "execution_count": null,
      "outputs": [
        {
          "output_type": "stream",
          "name": "stdout",
          "text": [
            "Choose an integer: 123508\n",
            "Choose another integer: 123487\n",
            "\n",
            "Great! Now choose what to do with these two numbers.\n",
            "1: ADD\n",
            "2: SUBTRACT\n",
            "3: MULTIPLY\n",
            "4: DIVIDE\n",
            "3\n",
            "\n",
            "15251632396 is the answer.\n"
          ]
        }
      ]
    },
    {
      "cell_type": "code",
      "source": [],
      "metadata": {
        "id": "5uY8JeRKKfyu"
      },
      "execution_count": null,
      "outputs": []
    },
    {
      "cell_type": "markdown",
      "source": [
        "#FILE HANDLING"
      ],
      "metadata": {
        "id": "hq1aK5NImt4Q"
      }
    },
    {
      "cell_type": "code",
      "source": [
        "#r = read\n",
        "#a = append\n",
        "#w = write\n",
        "\n",
        "def amogus():\n",
        "\n",
        "  myFile = open(\"test.txt\", \"a\")\n",
        "\n",
        "  myFile.write(\"\\n\")\n",
        "  myFile.write(\" amogus aaaaaaaaaaaaaaaaaaaa\")\n",
        "\n",
        "  myFile.close\n",
        "\n",
        "amogus()\n",
        "\n",
        "myFile = open(\"test.txt\", \"r\")\n",
        "\n",
        "for line in myFile:\n",
        "  print(line)\n",
        "\n",
        "myFile.close()"
      ],
      "metadata": {
        "id": "I_CNAhjUmwFQ",
        "colab": {
          "base_uri": "https://localhost:8080/"
        },
        "outputId": "820f802e-c937-44b6-a0b4-3949dfe655aa"
      },
      "execution_count": null,
      "outputs": [
        {
          "output_type": "stream",
          "name": "stdout",
          "text": [
            "\n",
            "\n",
            " amogus aaaaaaaaaaaaaaaaaaaa\n",
            "\n",
            " amogus aaaaaaaaaaaaaaaaaaaa\n",
            "\n",
            " amogus aaaaaaaaaaaaaaaaaaaa\n",
            "\n",
            " amogus aaaaaaaaaaaaaaaaaaaa\n"
          ]
        }
      ]
    },
    {
      "cell_type": "markdown",
      "source": [
        "#FOR LOOPS"
      ],
      "metadata": {
        "id": "5JokOfYAwu8Y"
      }
    },
    {
      "cell_type": "markdown",
      "source": [],
      "metadata": {
        "id": "XkvJi0rOCS8s"
      }
    },
    {
      "cell_type": "code",
      "source": [
        "counter = 0\n",
        "for i in range(5,12):\n",
        "  counter +=1\n",
        "  print(counter,i)"
      ],
      "metadata": {
        "colab": {
          "base_uri": "https://localhost:8080/"
        },
        "id": "9qgEBy9Pwvvu",
        "outputId": "1f618c4a-b934-447f-dbb9-f2e95a2d5cca"
      },
      "execution_count": null,
      "outputs": [
        {
          "output_type": "stream",
          "name": "stdout",
          "text": [
            "1 5\n",
            "2 6\n",
            "3 7\n",
            "4 8\n",
            "5 9\n",
            "6 10\n",
            "7 11\n"
          ]
        }
      ]
    },
    {
      "cell_type": "code",
      "source": [],
      "metadata": {
        "id": "0PIRln3xxkGp"
      },
      "execution_count": null,
      "outputs": []
    },
    {
      "cell_type": "markdown",
      "source": [
        "#HOMEWORK"
      ],
      "metadata": {
        "id": "_irmkjgLCUNe"
      }
    },
    {
      "cell_type": "markdown",
      "source": [
        "Task 1\n"
      ],
      "metadata": {
        "id": "ZFgdRFS4CZfV"
      }
    },
    {
      "cell_type": "code",
      "source": [
        "countries = [\"UK\", \"USA\", \"Chad\", \"Australia\", \"Thailand\"]\n",
        "\n",
        "countries[3] = \"Mexico\" #Replaces Australia with Mexico\n",
        "\n",
        "countries[0] = \"Iceland\" #Replaces UK with Iceland\n",
        "\n",
        "countries[1] = countries[4] #Replaces USA with Thailand\n",
        "\n",
        "#Now the list is Iceland, Thailand, Chad, Mexico, Thailand\n",
        "\n",
        "print(countries)\n"
      ],
      "metadata": {
        "colab": {
          "base_uri": "https://localhost:8080/"
        },
        "id": "gfB_6XdwCagY",
        "outputId": "802e50a8-d1ab-412f-8bdf-f52f7a10b949"
      },
      "execution_count": 88,
      "outputs": [
        {
          "output_type": "stream",
          "name": "stdout",
          "text": [
            "['Iceland', 'Thailand', 'Chad', 'Mexico', 'Thailand']\n"
          ]
        }
      ]
    },
    {
      "cell_type": "markdown",
      "source": [
        "Task 2"
      ],
      "metadata": {
        "id": "zdYGkw1FDhlz"
      }
    },
    {
      "cell_type": "code",
      "source": [
        "squareNumbers = [1,4,9,16,25,36]\n",
        "\n",
        "squareNumbers[5] = 49 #Replaces 36 with 49\n",
        "\n",
        "squareNumbers [0] +=1 #Adds 1 to 1, making it 2\n",
        "\n",
        "total = squareNumbers[3] - squareNumbers[1] #total = 14 (16-2)\n",
        "\n",
        "#squareNumbers is now 2,4,9,16,25,49\n",
        "\n",
        "print(squareNumbers)"
      ],
      "metadata": {
        "colab": {
          "base_uri": "https://localhost:8080/"
        },
        "id": "kaEZ208WCibf",
        "outputId": "2826f42a-b4c7-4a7d-87a0-de5d0ea095cf"
      },
      "execution_count": 89,
      "outputs": [
        {
          "output_type": "stream",
          "name": "stdout",
          "text": [
            "[2, 4, 9, 16, 25, 49]\n"
          ]
        }
      ]
    }
  ]
}