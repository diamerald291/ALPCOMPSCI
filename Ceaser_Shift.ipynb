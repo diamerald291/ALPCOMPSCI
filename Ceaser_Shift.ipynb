{
  "nbformat": 4,
  "nbformat_minor": 0,
  "metadata": {
    "colab": {
      "provenance": [],
      "toc_visible": true,
      "include_colab_link": true
    },
    "kernelspec": {
      "name": "python3",
      "display_name": "Python 3"
    },
    "language_info": {
      "name": "python"
    }
  },
  "cells": [
    {
      "cell_type": "markdown",
      "metadata": {
        "id": "view-in-github",
        "colab_type": "text"
      },
      "source": [
        "<a href=\"https://colab.research.google.com/github/diamerald291/ALPCOMPSCI/blob/main/Ceaser_Shift.ipynb\" target=\"_parent\"><img src=\"https://colab.research.google.com/assets/colab-badge.svg\" alt=\"Open In Colab\"/></a>"
      ]
    },
    {
      "cell_type": "markdown",
      "source": [
        "#Ceaser Shift\n",
        "\n",
        "This is a simple cipher read more [here](https://en.wikipedia.org/wiki/Caesar_cipher). Find out how the cipher works and then try to code it.\n",
        "\n",
        "Below you will find a simple version of the code. It is not as sophisticated as it has a lot of limitations but try to give it a go and solve it.\n",
        "\n",
        "Find out what the mod does in python."
      ],
      "metadata": {
        "id": "11Mf7GhuTuEY"
      }
    },
    {
      "cell_type": "code",
      "source": [
        "# Try putting % between two numbers. Can you figure out what operation does the % symbol reponsible for?\n",
        "#E.g.\n",
        "print(3%5)\n"
      ],
      "metadata": {
        "colab": {
          "base_uri": "https://localhost:8080/"
        },
        "id": "T_vmEKNUWdwv",
        "outputId": "09cfef05-19a8-48c7-f60b-c55da5bfbcc8"
      },
      "execution_count": null,
      "outputs": [
        {
          "output_type": "stream",
          "name": "stdout",
          "text": [
            "3\n"
          ]
        }
      ]
    },
    {
      "cell_type": "code",
      "execution_count": 46,
      "metadata": {
        "id": "mphIKssQTrhx"
      },
      "outputs": [],
      "source": [
        "alpha = \"ABCDEFGHIJKLMNOPQRSTUVWXYZ \"\n",
        "\n",
        "def caesar_encode(text, n):\n",
        "    answerList = []\n",
        "    for letter in text:\n",
        "        ind = alpha.index(letter)\n",
        "        ind += n\n",
        "        ind %= 27\n",
        "        answerList.append(alpha[ind])\n",
        "    return \"\".join(answerList)\n",
        "\n",
        "def caesar_decode(text, n):\n",
        "    answerList = []\n",
        "    for letter in text:\n",
        "        ind = alpha.index(letter)\n",
        "        ind -= n\n",
        "        ind %=27\n",
        "        answerList.append(alpha[ind])\n",
        "    return \"\".join(answerList)\n",
        "\n",
        "test = \"HELLO WORLD\"\n",
        "shift = 5\n",
        "\n",
        "\n"
      ]
    },
    {
      "cell_type": "markdown",
      "source": [
        "##Encode"
      ],
      "metadata": {
        "id": "e7iqfr1vUjHo"
      }
    },
    {
      "cell_type": "code",
      "source": [
        "enc = caesar_encode(test, shift)\n",
        "print(enc)"
      ],
      "metadata": {
        "id": "xUgikMWaUN5N",
        "colab": {
          "base_uri": "https://localhost:8080/"
        },
        "outputId": "5a7ab404-6df0-4339-df1d-151586927793"
      },
      "execution_count": 47,
      "outputs": [
        {
          "output_type": "stream",
          "name": "stdout",
          "text": [
            "MJQQTEATWQI\n"
          ]
        }
      ]
    },
    {
      "cell_type": "markdown",
      "source": [
        "##Decode\n",
        "\n",
        "complete the missing code."
      ],
      "metadata": {
        "id": "gflev3gAUeDI"
      }
    },
    {
      "cell_type": "code",
      "source": [
        "dec = caesar_decode(enc, shift)\n",
        "print(dec)"
      ],
      "metadata": {
        "colab": {
          "base_uri": "https://localhost:8080/"
        },
        "id": "GcRnbg3EUdQa",
        "outputId": "9aa9db24-2bc2-4bc8-a603-0e446c73c28f"
      },
      "execution_count": 48,
      "outputs": [
        {
          "output_type": "stream",
          "name": "stdout",
          "text": [
            "HELLO WORLD\n"
          ]
        }
      ]
    },
    {
      "cell_type": "code",
      "source": [],
      "metadata": {
        "id": "Hbs6jWU-U0ry"
      },
      "execution_count": null,
      "outputs": []
    },
    {
      "cell_type": "markdown",
      "source": [
        "1. Make a version of the Cipher where you involve the user to encode and decode. You can make use of the input command.\n",
        "2. What if you wanted the cipher to include spaces and numbers? How would you change it? Try it.\n",
        "3. Can you make this into a sub routine?"
      ],
      "metadata": {
        "id": "3cXWwMu6XEBw"
      }
    },
    {
      "cell_type": "code",
      "source": [
        "alpha = \"ABCDEFGHIJKLMNOPQRSTUVWXYZ\"\n",
        "\n",
        "def caesar_encode2(text, n):\n",
        "    answerList = []\n",
        "    for letter in text:\n",
        "      if letter in alpha:\n",
        "        ind = alpha.index(letter)\n",
        "        ind += n\n",
        "        ind %= 27\n",
        "        answerList.append(alpha[ind])\n",
        "      else:\n",
        "        answerList.append(letter)\n",
        "    return \"\".join(answerList)\n",
        "\n",
        "def caesar_decode2(text, n):\n",
        "    answerList = []\n",
        "    for letter in text:\n",
        "      if letter in alpha:\n",
        "        ind = alpha.index(letter)\n",
        "        ind -= n\n",
        "        ind %=27\n",
        "        answerList.append(alpha[ind])\n",
        "      else:\n",
        "        answerList.append(letter)\n",
        "    return \"\".join(answerList)\n",
        "\n",
        "shift = 5\n",
        "test = input(\"Give a phrase to encode: \")"
      ],
      "metadata": {
        "id": "WyT7h4qaXyHg",
        "colab": {
          "base_uri": "https://localhost:8080/"
        },
        "outputId": "46796174-b683-4fd7-f4b5-34a2e118f5d8"
      },
      "execution_count": 82,
      "outputs": [
        {
          "name": "stdout",
          "output_type": "stream",
          "text": [
            "Give a phrase to encode: HIPPITY H0PPITY GET OFF MY PROPERTY\n"
          ]
        }
      ]
    },
    {
      "cell_type": "code",
      "source": [
        "enc = caesar_encode2(test, shift)\n",
        "print(enc)"
      ],
      "metadata": {
        "colab": {
          "base_uri": "https://localhost:8080/"
        },
        "id": "-AH36bYLZGsF",
        "outputId": "e29452a4-5b8a-4b14-bd72-7ab71e439592"
      },
      "execution_count": 83,
      "outputs": [
        {
          "output_type": "stream",
          "name": "stdout",
          "text": [
            "MNUUNYC M0UUNYC LJY TKK RC UWTUJWYC\n"
          ]
        }
      ]
    },
    {
      "cell_type": "code",
      "source": [
        "dec = caesar_decode2(enc, shift)\n",
        "print(dec)"
      ],
      "metadata": {
        "colab": {
          "base_uri": "https://localhost:8080/"
        },
        "id": "K8KF1vK0Z3i1",
        "outputId": "1cfee3af-d483-48e0-f925-eb5fcf751776"
      },
      "execution_count": 84,
      "outputs": [
        {
          "output_type": "stream",
          "name": "stdout",
          "text": [
            "HIPPITY H0PPITY GET OFF MY PROPERTY\n"
          ]
        }
      ]
    },
    {
      "cell_type": "code",
      "source": [
        "def encodeme(test, shift):\n",
        "  test = input(\"Give a phrase to encode: \")\n",
        "  enc = caesar_encode2(test, shift)\n",
        "  print(enc)\n",
        "\n",
        "def decodeme(test, shift):\n",
        "  test = input(\"Give a phrase to encode: \")\n",
        "  dec = caesar_decode2(enc, shift)\n",
        "  print(dec)"
      ],
      "metadata": {
        "id": "ifmnVDToccXB"
      },
      "execution_count": 88,
      "outputs": []
    },
    {
      "cell_type": "code",
      "source": [
        "encodeme(test, shift)"
      ],
      "metadata": {
        "colab": {
          "base_uri": "https://localhost:8080/"
        },
        "id": "m9UZpdzPcrth",
        "outputId": "5cf4cde6-10e9-441f-ed3f-66aa1504ddbc"
      },
      "execution_count": 91,
      "outputs": [
        {
          "output_type": "stream",
          "name": "stdout",
          "text": [
            "Give a phrase to encode: WIPEFIOJPOI\n",
            "ANUJKNTOUTN\n"
          ]
        }
      ]
    }
  ]
}