{
  "metadata": {
    "kernelspec": {
      "display_name": "Python 3",
      "language": "python",
      "name": "python3"
    },
    "language_info": {
      "codemirror_mode": {
        "name": "ipython",
        "version": 3
      },
      "file_extension": ".py",
      "mimetype": "text/x-python",
      "name": "python",
      "nbconvert_exporter": "python",
      "pygments_lexer": "ipython3",
      "version": "3.6.5"
    },
    "kaggle": {
      "accelerator": "none",
      "dataSources": [
        {
          "sourceId": 10211,
          "databundleVersionId": 111096,
          "sourceType": "competition"
        },
        {
          "sourceId": 15520,
          "sourceType": "datasetVersion",
          "datasetId": 11167
        },
        {
          "sourceId": 38454,
          "sourceType": "datasetVersion",
          "datasetId": 2709
        }
      ],
      "isInternetEnabled": false,
      "language": "python",
      "sourceType": "notebook",
      "isGpuEnabled": false
    },
    "colab": {
      "provenance": [],
      "include_colab_link": true
    }
  },
  "nbformat_minor": 0,
  "nbformat": 4,
  "cells": [
    {
      "cell_type": "markdown",
      "metadata": {
        "id": "view-in-github",
        "colab_type": "text"
      },
      "source": [
        "<a href=\"https://colab.research.google.com/github/diamerald291/ALPCOMPSCI/blob/main/exercise3_model_validation.ipynb\" target=\"_parent\"><img src=\"https://colab.research.google.com/assets/colab-badge.svg\" alt=\"Open In Colab\"/></a>"
      ]
    },
    {
      "cell_type": "markdown",
      "source": [],
      "metadata": {
        "id": "NOJTGpHy9e9M"
      }
    },
    {
      "cell_type": "markdown",
      "source": [
        "## Recap\n",
        "You've built a model. In this exercise you will test how good your model is.\n",
        "\n",
        "Run the cell below to set up your coding environment where the previous exercise left off."
      ],
      "metadata": {
        "id": "JXrveUA69e9R"
      }
    },
    {
      "cell_type": "code",
      "source": [
        "# Code you have previously used to load data\n",
        "import pandas as pd\n",
        "from sklearn.tree import DecisionTreeRegressor\n",
        "\n",
        "# Path of the file to read\n",
        "iowa_file_path = '/content/train.csv'\n",
        "\n",
        "home_data = pd.read_csv(iowa_file_path)\n",
        "y = home_data.SalePrice\n",
        "feature_columns = ['LotArea', 'YearBuilt', '1stFlrSF', '2ndFlrSF', 'FullBath', 'BedroomAbvGr', 'TotRmsAbvGrd']\n",
        "X = home_data[feature_columns]\n",
        "\n",
        "# Specify Model\n",
        "iowa_model = DecisionTreeRegressor()\n",
        "# Fit Model\n",
        "iowa_model.fit(X, y)\n",
        "\n",
        "print(\"First in-sample predictions:\", iowa_model.predict(X.head()))\n",
        "print(\"Actual target values for those homes:\", y.head().tolist())"
      ],
      "metadata": {
        "id": "Y1TNcJeH9e9S",
        "colab": {
          "base_uri": "https://localhost:8080/"
        },
        "outputId": "e25a3874-4bd3-4dbe-90ee-62b76f3fb5f0"
      },
      "execution_count": 2,
      "outputs": [
        {
          "output_type": "stream",
          "name": "stdout",
          "text": [
            "First in-sample predictions: [208500. 181500. 223500. 140000. 250000.]\n",
            "Actual target values for those homes: [208500, 181500, 223500, 140000, 250000]\n"
          ]
        }
      ]
    },
    {
      "cell_type": "markdown",
      "source": [
        "# Exercises\n",
        "\n",
        "## Step 1: Split Your Data\n",
        "Use the `train_test_split` function to split up your data.\n",
        "\n",
        "Give it the argument `random_state=1` so the `check` functions know what to expect when verifying your code.\n",
        "\n",
        "Recall, your features are loaded in the DataFrame **X** and your target is loaded in **y**.\n"
      ],
      "metadata": {
        "id": "cdO505-a9e9U"
      }
    },
    {
      "cell_type": "code",
      "source": [
        "# Import the train_test_split function and uncomment\n",
        "from sklearn.model_selection import train_test_split\n",
        "# fill in and uncomment\n",
        "train_X, val_X, train_y, val_y = train_test_split(X, y, random_state = 1)\n"
      ],
      "metadata": {
        "id": "VTbFecYv9e9U"
      },
      "execution_count": 17,
      "outputs": []
    },
    {
      "cell_type": "code",
      "source": [],
      "metadata": {
        "id": "tHQLoAFH9e9V"
      },
      "execution_count": null,
      "outputs": []
    },
    {
      "cell_type": "markdown",
      "source": [
        "## Step 2: Specify and Fit the Model\n",
        "\n",
        "Create a `DecisionTreeRegressor` model and fit it to the relevant data.\n",
        "Set `random_state` to 1 again when creating the model."
      ],
      "metadata": {
        "id": "ncPkzf5t9e9V"
      }
    },
    {
      "cell_type": "code",
      "source": [
        "# You imported DecisionTreeRegressor in your last exercise\n",
        "# and that code has been copied to the setup code above. So, no need to\n",
        "# import it again\n",
        "\n",
        "# Specify the model\n",
        "iowa_model = DecisionTreeRegressor()\n",
        "\n",
        "# Fit iowa_model with the training data.\n",
        "iowa_model.fit(train_X, train_y)\n"
      ],
      "metadata": {
        "id": "KyNAFzbj9e9W",
        "colab": {
          "base_uri": "https://localhost:8080/",
          "height": 74
        },
        "outputId": "14a4221f-295f-4c31-fe3a-9a32d7bcd949"
      },
      "execution_count": 14,
      "outputs": [
        {
          "output_type": "execute_result",
          "data": {
            "text/plain": [
              "DecisionTreeRegressor()"
            ],
            "text/html": [
              "<style>#sk-container-id-2 {color: black;background-color: white;}#sk-container-id-2 pre{padding: 0;}#sk-container-id-2 div.sk-toggleable {background-color: white;}#sk-container-id-2 label.sk-toggleable__label {cursor: pointer;display: block;width: 100%;margin-bottom: 0;padding: 0.3em;box-sizing: border-box;text-align: center;}#sk-container-id-2 label.sk-toggleable__label-arrow:before {content: \"▸\";float: left;margin-right: 0.25em;color: #696969;}#sk-container-id-2 label.sk-toggleable__label-arrow:hover:before {color: black;}#sk-container-id-2 div.sk-estimator:hover label.sk-toggleable__label-arrow:before {color: black;}#sk-container-id-2 div.sk-toggleable__content {max-height: 0;max-width: 0;overflow: hidden;text-align: left;background-color: #f0f8ff;}#sk-container-id-2 div.sk-toggleable__content pre {margin: 0.2em;color: black;border-radius: 0.25em;background-color: #f0f8ff;}#sk-container-id-2 input.sk-toggleable__control:checked~div.sk-toggleable__content {max-height: 200px;max-width: 100%;overflow: auto;}#sk-container-id-2 input.sk-toggleable__control:checked~label.sk-toggleable__label-arrow:before {content: \"▾\";}#sk-container-id-2 div.sk-estimator input.sk-toggleable__control:checked~label.sk-toggleable__label {background-color: #d4ebff;}#sk-container-id-2 div.sk-label input.sk-toggleable__control:checked~label.sk-toggleable__label {background-color: #d4ebff;}#sk-container-id-2 input.sk-hidden--visually {border: 0;clip: rect(1px 1px 1px 1px);clip: rect(1px, 1px, 1px, 1px);height: 1px;margin: -1px;overflow: hidden;padding: 0;position: absolute;width: 1px;}#sk-container-id-2 div.sk-estimator {font-family: monospace;background-color: #f0f8ff;border: 1px dotted black;border-radius: 0.25em;box-sizing: border-box;margin-bottom: 0.5em;}#sk-container-id-2 div.sk-estimator:hover {background-color: #d4ebff;}#sk-container-id-2 div.sk-parallel-item::after {content: \"\";width: 100%;border-bottom: 1px solid gray;flex-grow: 1;}#sk-container-id-2 div.sk-label:hover label.sk-toggleable__label {background-color: #d4ebff;}#sk-container-id-2 div.sk-serial::before {content: \"\";position: absolute;border-left: 1px solid gray;box-sizing: border-box;top: 0;bottom: 0;left: 50%;z-index: 0;}#sk-container-id-2 div.sk-serial {display: flex;flex-direction: column;align-items: center;background-color: white;padding-right: 0.2em;padding-left: 0.2em;position: relative;}#sk-container-id-2 div.sk-item {position: relative;z-index: 1;}#sk-container-id-2 div.sk-parallel {display: flex;align-items: stretch;justify-content: center;background-color: white;position: relative;}#sk-container-id-2 div.sk-item::before, #sk-container-id-2 div.sk-parallel-item::before {content: \"\";position: absolute;border-left: 1px solid gray;box-sizing: border-box;top: 0;bottom: 0;left: 50%;z-index: -1;}#sk-container-id-2 div.sk-parallel-item {display: flex;flex-direction: column;z-index: 1;position: relative;background-color: white;}#sk-container-id-2 div.sk-parallel-item:first-child::after {align-self: flex-end;width: 50%;}#sk-container-id-2 div.sk-parallel-item:last-child::after {align-self: flex-start;width: 50%;}#sk-container-id-2 div.sk-parallel-item:only-child::after {width: 0;}#sk-container-id-2 div.sk-dashed-wrapped {border: 1px dashed gray;margin: 0 0.4em 0.5em 0.4em;box-sizing: border-box;padding-bottom: 0.4em;background-color: white;}#sk-container-id-2 div.sk-label label {font-family: monospace;font-weight: bold;display: inline-block;line-height: 1.2em;}#sk-container-id-2 div.sk-label-container {text-align: center;}#sk-container-id-2 div.sk-container {/* jupyter's `normalize.less` sets `[hidden] { display: none; }` but bootstrap.min.css set `[hidden] { display: none !important; }` so we also need the `!important` here to be able to override the default hidden behavior on the sphinx rendered scikit-learn.org. See: https://github.com/scikit-learn/scikit-learn/issues/21755 */display: inline-block !important;position: relative;}#sk-container-id-2 div.sk-text-repr-fallback {display: none;}</style><div id=\"sk-container-id-2\" class=\"sk-top-container\"><div class=\"sk-text-repr-fallback\"><pre>DecisionTreeRegressor()</pre><b>In a Jupyter environment, please rerun this cell to show the HTML representation or trust the notebook. <br />On GitHub, the HTML representation is unable to render, please try loading this page with nbviewer.org.</b></div><div class=\"sk-container\" hidden><div class=\"sk-item\"><div class=\"sk-estimator sk-toggleable\"><input class=\"sk-toggleable__control sk-hidden--visually\" id=\"sk-estimator-id-2\" type=\"checkbox\" checked><label for=\"sk-estimator-id-2\" class=\"sk-toggleable__label sk-toggleable__label-arrow\">DecisionTreeRegressor</label><div class=\"sk-toggleable__content\"><pre>DecisionTreeRegressor()</pre></div></div></div></div></div>"
            ]
          },
          "metadata": {},
          "execution_count": 14
        }
      ]
    },
    {
      "cell_type": "code",
      "source": [],
      "metadata": {
        "id": "LYZCK35c9e9W"
      },
      "execution_count": null,
      "outputs": []
    },
    {
      "cell_type": "markdown",
      "source": [
        "## Step 3: Make Predictions with Validation data\n"
      ],
      "metadata": {
        "id": "thWpehpF9e9X"
      }
    },
    {
      "cell_type": "code",
      "source": [
        "# Predict with all validation observations\n",
        "val_predictions = iowa_model.predict(val_X)\n"
      ],
      "metadata": {
        "id": "DN07iSeJ9e9X"
      },
      "execution_count": 15,
      "outputs": []
    },
    {
      "cell_type": "code",
      "source": [],
      "metadata": {
        "id": "Gt86_DZA9e9X"
      },
      "execution_count": null,
      "outputs": []
    },
    {
      "cell_type": "markdown",
      "source": [
        "Inspect your predictions and actual values from validation data."
      ],
      "metadata": {
        "id": "ou8DFXbX9e9Y"
      }
    },
    {
      "cell_type": "code",
      "source": [
        "# print the top few validation predictions\n",
        "print(val_predictions[0:5])\n",
        "# print the top few actual prices from validation data\n",
        "print(val_y.head())"
      ],
      "metadata": {
        "id": "PAxCn8rt9e9Y",
        "colab": {
          "base_uri": "https://localhost:8080/"
        },
        "outputId": "8480b2e7-ff8c-4d2f-e0b0-c40a3115c478"
      },
      "execution_count": 25,
      "outputs": [
        {
          "output_type": "stream",
          "name": "stdout",
          "text": [
            "[335000. 205000. 124000. 200000.  91500.]\n",
            "258     231500\n",
            "267     179500\n",
            "288     122000\n",
            "649      84500\n",
            "1233    142000\n",
            "Name: SalePrice, dtype: int64\n"
          ]
        }
      ]
    },
    {
      "cell_type": "markdown",
      "source": [
        "What do you notice that is different from what you saw with in-sample predictions (which are printed after the top code cell in this page).\n",
        "\n",
        ">The values are very different, and were less accurate in predicting, compared to the in-sample predictions.\n",
        "\n",
        "Do you remember why validation predictions differ from in-sample (or training) predictions? This is an important idea from the last lesson.\n",
        "\n",
        ">It uses a different format to predict, which can be more or less accurate.\n",
        "\n",
        "## Step 4: Calculate the Mean Absolute Error in Validation Data\n"
      ],
      "metadata": {
        "id": "vQ9tOMV09e9Z"
      }
    },
    {
      "cell_type": "code",
      "source": [
        "from sklearn.metrics import mean_absolute_error\n",
        "val_mae = mean_absolute_error(val_y, val_predictions)\n",
        "\n",
        "# uncomment following line to see the validation_mae\n",
        "print(val_mae)\n",
        "\n",
        "# Check your answer\n",
        "#step_4.check()"
      ],
      "metadata": {
        "id": "qpJVSeeo9e9Z",
        "colab": {
          "base_uri": "https://localhost:8080/"
        },
        "outputId": "b5995fa0-047b-41f8-d3a5-aa967e290412"
      },
      "execution_count": 39,
      "outputs": [
        {
          "output_type": "stream",
          "name": "stdout",
          "text": [
            "79086.68767123288\n"
          ]
        }
      ]
    },
    {
      "cell_type": "code",
      "source": [],
      "metadata": {
        "id": "xAcgVIlm9e9a"
      },
      "execution_count": null,
      "outputs": []
    },
    {
      "cell_type": "markdown",
      "source": [],
      "metadata": {
        "id": "nosDyY5D9e9a"
      }
    },
    {
      "cell_type": "markdown",
      "source": [
        "---\n",
        "\n",
        "\n",
        "\n"
      ],
      "metadata": {
        "id": "wtP9T4oF9e9b"
      }
    },
    {
      "cell_type": "markdown",
      "source": [
        "\n",
        "\n",
        "\n"
      ],
      "metadata": {
        "id": "YEDNsRVd9tjd"
      }
    }
  ]
}